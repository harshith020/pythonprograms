{
 "cells": [
  {
   "cell_type": "code",
   "execution_count": 4,
   "id": "7b65854f",
   "metadata": {},
   "outputs": [
    {
     "data": {
      "text/plain": [
       "{'days': [1, 2, 3, 4, 5, 6, 7, 8, 9, 10],\n",
       " 'steps': [4335, 9552, 7332, 4504, 5335, 7552, 8332, 6504, 8965, 7689]}"
      ]
     },
     "execution_count": 4,
     "metadata": {},
     "output_type": "execute_result"
    }
   ],
   "source": [
    "import pandas as pd\n",
    "arr={'days':[1,2,3,4,5,6,7,8,9,10],\n",
    "    'steps':[4335,9552,7332,4504,5335,7552,8332,6504,8965,7689]}\n",
    "df=pd.DataFrame(arr)\n",
    "arr"
   ]
  },
  {
   "cell_type": "code",
   "execution_count": 5,
   "id": "b1562ac9",
   "metadata": {},
   "outputs": [
    {
     "data": {
      "text/plain": [
       "0     6335\n",
       "1    11552\n",
       "2     9332\n",
       "3     6504\n",
       "4     7335\n",
       "5     9552\n",
       "6    10332\n",
       "7     8504\n",
       "8    10965\n",
       "9     9689\n",
       "Name: steps, dtype: int64"
      ]
     },
     "execution_count": 5,
     "metadata": {},
     "output_type": "execute_result"
    }
   ],
   "source": [
    "arr['steps']=df['steps']+2000\n",
    "arr['steps']"
   ]
  },
  {
   "cell_type": "code",
   "execution_count": 6,
   "id": "b4317df4",
   "metadata": {},
   "outputs": [
    {
     "data": {
      "text/html": [
       "<div>\n",
       "<style scoped>\n",
       "    .dataframe tbody tr th:only-of-type {\n",
       "        vertical-align: middle;\n",
       "    }\n",
       "\n",
       "    .dataframe tbody tr th {\n",
       "        vertical-align: top;\n",
       "    }\n",
       "\n",
       "    .dataframe thead th {\n",
       "        text-align: right;\n",
       "    }\n",
       "</style>\n",
       "<table border=\"1\" class=\"dataframe\">\n",
       "  <thead>\n",
       "    <tr style=\"text-align: right;\">\n",
       "      <th></th>\n",
       "      <th>days</th>\n",
       "      <th>steps</th>\n",
       "    </tr>\n",
       "  </thead>\n",
       "  <tbody>\n",
       "    <tr>\n",
       "      <th>1</th>\n",
       "      <td>2</td>\n",
       "      <td>9552</td>\n",
       "    </tr>\n",
       "  </tbody>\n",
       "</table>\n",
       "</div>"
      ],
      "text/plain": [
       "   days  steps\n",
       "1     2   9552"
      ]
     },
     "execution_count": 6,
     "metadata": {},
     "output_type": "execute_result"
    }
   ],
   "source": [
    "match=df.loc[df['steps']>9000]\n",
    "match"
   ]
  },
  {
   "cell_type": "code",
   "execution_count": null,
   "id": "01153b6a",
   "metadata": {},
   "outputs": [],
   "source": []
  },
  {
   "cell_type": "code",
   "execution_count": null,
   "id": "3e2298d9",
   "metadata": {},
   "outputs": [],
   "source": [
    "d    "
   ]
  }
 ],
 "metadata": {
  "kernelspec": {
   "display_name": "Python 3 (ipykernel)",
   "language": "python",
   "name": "python3"
  },
  "language_info": {
   "codemirror_mode": {
    "name": "ipython",
    "version": 3
   },
   "file_extension": ".py",
   "mimetype": "text/x-python",
   "name": "python",
   "nbconvert_exporter": "python",
   "pygments_lexer": "ipython3",
   "version": "3.11.3"
  }
 },
 "nbformat": 4,
 "nbformat_minor": 5
}
